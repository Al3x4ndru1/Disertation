{
 "cells": [
  {
   "cell_type": "markdown",
   "metadata": {},
   "source": [
    "# Title"
   ]
  },
  {
   "cell_type": "markdown",
   "metadata": {},
   "source": [
    "This is my final year project (dissertation), this will have two parts, the current state and the state that I would like to achive."
   ]
  },
  {
   "cell_type": "markdown",
   "metadata": {},
   "source": [
    "This project has three main components: \n",
    "\n",
    "* Web application with React Material UI to provide a graphical interface through which the users will be able to visualize the dataset analysis\n",
    "\n",
    "* Middleware, a Spring Boot application with Java 19, must handle the UI requests and will create, destroy, and communicate with diverse containers that virtualize the third component.\n",
    "\n",
    "* Spring Boot application that will analyze the diverse datasets. In this case, it is focused more on the lip reading datasets."
   ]
  },
  {
   "cell_type": "markdown",
   "metadata": {},
   "source": [
    "-------------------------------------------"
   ]
  },
  {
   "cell_type": "markdown",
   "metadata": {},
   "source": [
    "## State of the application"
   ]
  },
  {
   "cell_type": "markdown",
   "metadata": {},
   "source": [
    "<center><figure><img src=\"figs/Abstract_Overview_FIrst_Stage.drawio.png\" alt=\"Abstract_Overview_Of_The_Project_First_Stage\"><figcaption>Abstract overview of the project (First Stage)</figcaption></figure></center>"
   ]
  },
  {
   "cell_type": "markdown",
   "metadata": {},
   "source": [
    "In this state of the application I was more focused on the performance and creating the platform that can be further developed in the future. This aspect can be seen in the next figure (Performance):"
   ]
  },
  {
   "cell_type": "markdown",
   "metadata": {},
   "source": [
    "<center><figure><img src=\"figs/Performance.png\" alt=\"Performance\"><figcaption>Performance</figcaption></figure></center>"
   ]
  },
  {
   "cell_type": "markdown",
   "metadata": {},
   "source": [
    "From the perfromance point a view the system is blazingly fast and also has a good memory management, in less than 12 seconds, 11.07 seconds, preporcessed and analised 46 GB of data with almost constant memory resources. Moreover, from 46.1 GB from the dataset, after the preporcessed and the result where 0.07 GB. Furthermore, only 0.01 GB will be needed for a further analisys. More in the Automated-Data-Mini-System submodule.  "
   ]
  },
  {
   "cell_type": "markdown",
   "metadata": {},
   "source": [
    "In this scenario the kubernetes was not neceserly and it was not beeing involved."
   ]
  },
  {
   "cell_type": "markdown",
   "metadata": {},
   "source": [
    "### Tests"
   ]
  },
  {
   "cell_type": "markdown",
   "metadata": {},
   "source": [
    "There were some tests that have been done, integretion, smoke, unit, performance testing."
   ]
  },
  {
   "cell_type": "markdown",
   "metadata": {},
   "source": [
    "One way that I have test it was through Postman, since it can tell the efective time took for the system to response and the amount of memory that response come along with for each request.  "
   ]
  },
  {
   "cell_type": "markdown",
   "metadata": {},
   "source": [
    "System specifications:\n",
    "\n",
    "<table>\n",
    "\n",
    "<tr>\n",
    "    <th>Processor</th>\n",
    "    <td>AMD Ryzen 7 4800H with Radeon Graphics 2.90 GHz</td>\n",
    "</tr>\n",
    "<tr>\n",
    "    <th>GPU</th>\n",
    "    <td>NVIDIA GeForce GTX 1650</td>\n",
    "</tr>\n",
    "<tr>\n",
    "    <th>RAM</th>\n",
    "    <td>16.0 GB DDR4</td>\n",
    "</tr>\n",
    "<tr>\n",
    "    <th>SSD</th>\n",
    "    <td>512GB PCIE G3</td>\n",
    "</tr>\n",
    "\n",
    "</table>"
   ]
  },
  {
   "cell_type": "markdown",
   "metadata": {},
   "source": [
    "----------------------------------------------------------"
   ]
  },
  {
   "cell_type": "markdown",
   "metadata": {},
   "source": [
    "## Final plan"
   ]
  },
  {
   "cell_type": "markdown",
   "metadata": {},
   "source": [
    "<center><figure><img src=\"figs/Abstract_Overview_Goal.drawio.png\" alt=\"Abstract_Overview_Goa\"><figcaption>Abstract Overview Goal</figcaption></figure></center>"
   ]
  },
  {
   "cell_type": "markdown",
   "metadata": {},
   "source": [
    "In "
   ]
  },
  {
   "cell_type": "markdown",
   "metadata": {},
   "source": []
  }
 ],
 "metadata": {
  "language_info": {
   "name": "python"
  }
 },
 "nbformat": 4,
 "nbformat_minor": 2
}
